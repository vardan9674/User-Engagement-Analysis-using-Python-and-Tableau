{
 "cells": [
  {
   "cell_type": "markdown",
   "metadata": {},
   "source": [
    "# User Engagement Analysis using Python and Tableau"
   ]
  },
  {
   "cell_type": "code",
   "execution_count": null,
   "metadata": {},
   "outputs": [],
   "source": [
    "#importing Libraries \n",
    "import pandas as pd \n",
    "import numpy as np\n",
    "import matplotlib as mpl \n",
    "import matplotlib.pyplot as plt\n",
    "import seaborn as sns\n",
    "import plotly.express as px\n",
    "%matplotlib inline"
   ]
  },
  {
   "cell_type": "code",
   "execution_count": null,
   "metadata": {},
   "outputs": [],
   "source": [
    "#Creating a Dataframe \n",
    "data = pd.read_csv('/Users/vaardanchennupati/Desktop/showwcase/showwcase_sessions.csv')"
   ]
  },
  {
   "cell_type": "markdown",
   "metadata": {},
   "source": [
    "## Data Statistics "
   ]
  },
  {
   "cell_type": "code",
   "execution_count": null,
   "metadata": {
    "scrolled": true
   },
   "outputs": [],
   "source": [
    "# Column name in the dataset\n",
    "data.columns"
   ]
  },
  {
   "cell_type": "code",
   "execution_count": null,
   "metadata": {},
   "outputs": [],
   "source": [
    "#Lets get the shape of the DataFrame\n",
    "data.shape\n"
   ]
  },
  {
   "cell_type": "code",
   "execution_count": null,
   "metadata": {},
   "outputs": [],
   "source": [
    "data.head()"
   ]
  },
  {
   "cell_type": "code",
   "execution_count": null,
   "metadata": {},
   "outputs": [],
   "source": [
    "data.tail()"
   ]
  },
  {
   "cell_type": "code",
   "execution_count": null,
   "metadata": {},
   "outputs": [],
   "source": [
    "# Structure of the DataFrame\n",
    "data.info()"
   ]
  },
  {
   "cell_type": "code",
   "execution_count": null,
   "metadata": {},
   "outputs": [],
   "source": [
    "# Now lets look into some Statistics of the dataset\n",
    "data.describe()"
   ]
  },
  {
   "cell_type": "markdown",
   "metadata": {},
   "source": [
    "## Data Cleaning\n",
    "(Checking for Missing values in the dataset)\n"
   ]
  },
  {
   "cell_type": "code",
   "execution_count": null,
   "metadata": {
    "scrolled": true
   },
   "outputs": [],
   "source": [
    "#checking for missing values\n",
    "data.isnull().sum()"
   ]
  },
  {
   "cell_type": "code",
   "execution_count": null,
   "metadata": {},
   "outputs": [],
   "source": [
    "\n",
    "data[data.isna().any(axis=1)]"
   ]
  },
  {
   "cell_type": "code",
   "execution_count": null,
   "metadata": {},
   "outputs": [],
   "source": [
    "#droping column with nan\n",
    "data = data.drop([300,301],axis=0)"
   ]
  },
  {
   "cell_type": "code",
   "execution_count": null,
   "metadata": {},
   "outputs": [],
   "source": [
    "#after removing the (Columns with null values)\n",
    "data.tail()"
   ]
  },
  {
   "cell_type": "markdown",
   "metadata": {},
   "source": [
    "From the above table we can confirm that there are three rows that has Null values(NaN),So we will be droping it. "
   ]
  },
  {
   "cell_type": "code",
   "execution_count": null,
   "metadata": {
    "scrolled": false
   },
   "outputs": [],
   "source": [
    "#checking again\n",
    "data[data.isna().any(axis=1)]"
   ]
  },
  {
   "cell_type": "markdown",
   "metadata": {},
   "source": [
    "We can observe that there is one value missing in the column session_likes_given, and from the column likes_given we can see that the boolean value is False which mean the customer has not given any likes in this session. So we replace the NaN with zero"
   ]
  },
  {
   "cell_type": "code",
   "execution_count": null,
   "metadata": {},
   "outputs": [],
   "source": [
    "#replacing the value with zero\n",
    "data['session_likes_given'] = data['session_likes_given'].fillna(0)"
   ]
  },
  {
   "cell_type": "code",
   "execution_count": null,
   "metadata": {},
   "outputs": [],
   "source": [
    "#cross- checking agian for null values\n",
    "data.isnull().sum()"
   ]
  },
  {
   "cell_type": "code",
   "execution_count": null,
   "metadata": {},
   "outputs": [],
   "source": [
    "#converting Boolen to INT\n",
    "data = np.multiply(data, 1)"
   ]
  },
  {
   "cell_type": "code",
   "execution_count": null,
   "metadata": {},
   "outputs": [],
   "source": [
    "#Converting date\n",
    "data['login_date']=pd.to_datetime(data['login_date'])\n"
   ]
  },
  {
   "cell_type": "code",
   "execution_count": null,
   "metadata": {},
   "outputs": [],
   "source": [
    "# converting the data farme to int \n",
    "data['session_id']=data['session_id'].astype(int)\n",
    "data['customer_id']=data['customer_id'].astype(int)\n",
    "data['projects_added']=data['projects_added'].astype(int)\n",
    "data['likes_given']=data['likes_given'].astype(int)\n",
    "data['comment_given']=data['comment_given'].astype(int)\n",
    "data['inactive_status']=data['inactive_status'].astype(int)\n",
    "data['bug_occured']=data['bug_occured'].astype(int)\n",
    "data['session_projects_added']=data['session_projects_added'].astype(int)\n",
    "data['session_likes_given']=data['session_likes_given'].astype(int)\n",
    "data['session_comments_given']=data['session_comments_given'].astype(int)\n",
    "data['inactive_duration']=data['inactive_duration'].astype(int)\n",
    "data['bugs_in_session']=data['bugs_in_session'].astype(int)\n",
    "data['session_duration']=data['session_duration'].astype(int)\n"
   ]
  },
  {
   "cell_type": "code",
   "execution_count": null,
   "metadata": {},
   "outputs": [],
   "source": [
    "\n",
    "data.info()"
   ]
  },
  {
   "cell_type": "code",
   "execution_count": null,
   "metadata": {},
   "outputs": [],
   "source": [
    "#exporting the datafram for visulization in tableau\n",
    "data.to_csv(r'/Users/vaardanchennupati/Desktop/showwcase/showwcase.csv', index = False)\n"
   ]
  },
  {
   "cell_type": "markdown",
   "metadata": {},
   "source": [
    "## Data Visualization "
   ]
  },
  {
   "cell_type": "markdown",
   "metadata": {},
   "source": [
    "### Data Visualization Is done By using python and Tableau\n",
    "I have also attached the link to Tableau Dashboard for more Visualization. \n",
    "    Tableau Dashboard Link: https://public.tableau.com/profile/vardan.chennupati#!/vizhome/Showwcase_16003069170040/Dashboard1?publish=yes\n",
    "    \n",
    "   Coming to Visulaization using python I have Created 5 Bar plot using Seaborn Library and Matplotlib.\n",
    "   "
   ]
  },
  {
   "cell_type": "code",
   "execution_count": null,
   "metadata": {},
   "outputs": [],
   "source": [
    "by_customer = data.groupby(\"customer_id\")\n"
   ]
  },
  {
   "cell_type": "markdown",
   "metadata": {},
   "source": [
    "In the above Code we Use GROUPBY Function to group all Unique customer Id and sum them up."
   ]
  },
  {
   "cell_type": "code",
   "execution_count": null,
   "metadata": {},
   "outputs": [],
   "source": [
    "by_customer=by_customer.sum()\n"
   ]
  },
  {
   "cell_type": "code",
   "execution_count": null,
   "metadata": {},
   "outputs": [],
   "source": [
    "# Creating a new column called CUSTOMER_SESSION_TOTALTIME Which show the total session login of the customer\n",
    "by_customer['customer_session_totaltime']=by_customer['session_duration']+by_customer['inactive_duration']\n"
   ]
  },
  {
   "cell_type": "code",
   "execution_count": null,
   "metadata": {},
   "outputs": [],
   "source": [
    "top_projects=by_customer.sort_values(by='session_projects_added', ascending=False).head(10).reset_index()\n",
    "top_projects"
   ]
  },
  {
   "cell_type": "code",
   "execution_count": null,
   "metadata": {},
   "outputs": [],
   "source": [
    "#top 10 Customer_Id with Most projects\n",
    "plt.figure(figsize=(12,5),dpi= 100)\n",
    "\n",
    "ax = sns.barplot(y=\"session_projects_added\", x = \"customer_id\", data =top_projects, palette=(\"Blues_d\"),order=top_projects.sort_values('session_projects_added',ascending = False).customer_id)\n",
    "ax.set(xlabel=\"Customer_ID\", ylabel='Number of Projects added By the customer',title='Top 10 customer_id with most projects')\n",
    "for i, v in enumerate(top_projects[\"session_projects_added\"].iteritems()):        \n",
    "    ax.text(i ,v[1], \"{:,}\".format(v[1]), color='black', va ='bottom')\n",
    "plt.tight_layout()\n",
    "plt.show()\n"
   ]
  },
  {
   "cell_type": "code",
   "execution_count": null,
   "metadata": {},
   "outputs": [],
   "source": [
    "# Top likes given by customers\n",
    "top_likes=by_customer.sort_values(by='session_likes_given', ascending=False).head(10).reset_index()\n",
    "\n"
   ]
  },
  {
   "cell_type": "code",
   "execution_count": null,
   "metadata": {},
   "outputs": [],
   "source": [
    "plt.figure(figsize=(12,5),dpi= 100)\n",
    "\n",
    "ax = sns.barplot(y=\"session_likes_given\", x = \"customer_id\", data =top_likes, palette=(\"spring\"),order=top_likes.sort_values('session_likes_given',ascending = False).customer_id)\n",
    "ax.set(xlabel=\"Customer_ID\", ylabel='Number of Likes given by customer',title='Top 10 customers with most likes given')\n",
    "for i, v in enumerate(top_likes[\"session_likes_given\"].iteritems()):        \n",
    "    ax.text(i ,v[1], \"{:,}\".format(v[1]), color='black', va ='bottom')\n",
    "plt.tight_layout()\n",
    "plt.show()"
   ]
  },
  {
   "cell_type": "code",
   "execution_count": null,
   "metadata": {},
   "outputs": [],
   "source": [
    "# Top 10 customer with most comments given\n",
    "\n",
    "top_comments=by_customer.sort_values(by='session_comments_given', ascending=False).head(10).reset_index()\n",
    "\n"
   ]
  },
  {
   "cell_type": "code",
   "execution_count": null,
   "metadata": {},
   "outputs": [],
   "source": [
    "plt.figure(figsize=(12,5),dpi= 100)\n",
    "\n",
    "ax = sns.barplot(y=\"session_comments_given\", x = \"customer_id\", data =top_comments, palette=(\"summer\"),order=top_comments.sort_values('session_comments_given',ascending = False).customer_id)\n",
    "ax.set(xlabel=\"Customer_ID\", ylabel='Number of comments given out by customer',title='Top 10 Customers with most comments given')\n",
    "for i, v in enumerate(top_comments[\"session_comments_given\"].iteritems()):        \n",
    "    ax.text(i ,v[1], \"{:,}\".format(v[1]), color='black', va ='bottom')\n",
    "plt.tight_layout()\n",
    "plt.show()"
   ]
  },
  {
   "cell_type": "code",
   "execution_count": null,
   "metadata": {},
   "outputs": [],
   "source": [
    "#top 10 customer with most bugs in session\n",
    "top_bugs=by_customer.sort_values(by='bugs_in_session', ascending=False).head(10).reset_index()"
   ]
  },
  {
   "cell_type": "code",
   "execution_count": null,
   "metadata": {},
   "outputs": [],
   "source": [
    "plt.figure(figsize=(12,5),dpi= 100)\n",
    "\n",
    "ax = sns.barplot(y=\"bugs_in_session\", x = \"customer_id\", data =top_bugs, palette=(\"ocean\"),order=top_bugs.sort_values('bugs_in_session',ascending = False).customer_id)\n",
    "ax.set(xlabel=\"Customer_ID\", ylabel='Number of bugs',title='Top 10 Customers with most bug in the session')\n",
    "for i, v in enumerate(top_bugs[\"bugs_in_session\"].iteritems()):        \n",
    "    ax.text(i ,v[1], \"{:,}\".format(v[1]), color='black', va ='bottom')\n",
    "plt.tight_layout()\n",
    "plt.show()"
   ]
  },
  {
   "cell_type": "markdown",
   "metadata": {},
   "source": [
    "Observation:\n",
    "    Comparing the bar graphs( Comments given and bug in session) we can see a pattern where both the graph have same customer ID but when we look closely in both the graphs we can assume that customer who gave comments are the one who had more bug in the sessions. For example Let take the customer id 23404 he had given 64 comments but he had also encountered 33 bugs in his session i.e. 50%. lets take the second highest that is 29375 comments given by this customer is 44 and the bug encountered by this customer is 26 i.e. 59%"
   ]
  },
  {
   "cell_type": "code",
   "execution_count": null,
   "metadata": {},
   "outputs": [],
   "source": [
    "#top 10 customers with active session usage\n",
    "top_users=by_customer.sort_values(by='customer_session_totaltime', ascending=False).head(10).reset_index()"
   ]
  },
  {
   "cell_type": "code",
   "execution_count": null,
   "metadata": {
    "scrolled": true
   },
   "outputs": [],
   "source": [
    "plt.figure(figsize=(12,5),dpi= 100)\n",
    "\n",
    "ax = sns.barplot(y=\"customer_session_totaltime\", x = \"customer_id\", data =top_users, palette=(\"inferno\"),order=top_users.sort_values('customer_session_totaltime',ascending = False).customer_id)\n",
    "ax.set(xlabel=\"Customer_ID\", ylabel='Total Seconds(Sec)',title='Comparsion of Total usage of session vs Active usage of session')\n",
    "\n",
    "ax = sns.barplot(y=\"session_duration\", x = \"customer_id\", data =top_users, palette=(\"summer_r\"),order=top_users.sort_values('customer_session_totaltime',ascending = False).customer_id)\n",
    "\n",
    "\n",
    "\n",
    "for i, v in enumerate(top_users[\"session_duration\"].iteritems()):        \n",
    "    ax.text(i ,v[1], \"{:,}\".format(v[1]), color='white', va ='bottom')\n",
    "\n",
    "for i, v in enumerate(top_users[\"customer_session_totaltime\"].iteritems()):        \n",
    "    ax.text(i ,v[1], \"{:,}\".format(v[1]), color='black', va ='bottom')\n",
    "plt.tight_layout()\n",
    "plt.show()"
   ]
  },
  {
   "cell_type": "markdown",
   "metadata": {},
   "source": [
    "Observation:\n",
    "     The Above Figure shows the comparison of total usage of session and active usaage of session by customers.\n",
    "        only Few customers are arround 70% active but most of them are arround 50% - 65% active "
   ]
  },
  {
   "cell_type": "code",
   "execution_count": null,
   "metadata": {},
   "outputs": [],
   "source": []
  }
 ],
 "metadata": {
  "kernelspec": {
   "display_name": "Python 3",
   "language": "python",
   "name": "python3"
  },
  "language_info": {
   "codemirror_mode": {
    "name": "ipython",
    "version": 3
   },
   "file_extension": ".py",
   "mimetype": "text/x-python",
   "name": "python",
   "nbconvert_exporter": "python",
   "pygments_lexer": "ipython3",
   "version": "3.7.6"
  },
  "toc": {
   "base_numbering": 1,
   "nav_menu": {},
   "number_sections": true,
   "sideBar": true,
   "skip_h1_title": false,
   "title_cell": "Table of Contents",
   "title_sidebar": "Contents",
   "toc_cell": false,
   "toc_position": {},
   "toc_section_display": true,
   "toc_window_display": false
  },
  "varInspector": {
   "cols": {
    "lenName": 16,
    "lenType": 16,
    "lenVar": 40
   },
   "kernels_config": {
    "python": {
     "delete_cmd_postfix": "",
     "delete_cmd_prefix": "del ",
     "library": "var_list.py",
     "varRefreshCmd": "print(var_dic_list())"
    },
    "r": {
     "delete_cmd_postfix": ") ",
     "delete_cmd_prefix": "rm(",
     "library": "var_list.r",
     "varRefreshCmd": "cat(var_dic_list()) "
    }
   },
   "types_to_exclude": [
    "module",
    "function",
    "builtin_function_or_method",
    "instance",
    "_Feature"
   ],
   "window_display": false
  }
 },
 "nbformat": 4,
 "nbformat_minor": 4
}
